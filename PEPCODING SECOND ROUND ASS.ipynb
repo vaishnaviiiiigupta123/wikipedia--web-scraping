{
 "cells": [
  {
   "cell_type": "code",
   "execution_count": 2,
   "metadata": {},
   "outputs": [
    {
     "name": "stdout",
     "output_type": "stream",
     "text": [
      "History[edit]\n",
      "The letter V comes from the Semitic letter Waw, as do the modern letters F, U, W, and Y.[2] See F for details.\n",
      "In Greek, the letter upsilon \"Υ\" was adapted from waw to represent, at first, the vowel [u] as in \"moon\". This was later fronted to [y], the front rounded vowel spelled \"ü\" in German.\n",
      "\n",
      "In Latin, a stemless variant shape of the upsilon was borrowed in early times as V — either directly from the Western Greek alphabet or from the Etruscan alphabet as an intermediary — to represent the same /u/ sound, as well as the consonantal /w/, num — originally spelled NVM — was pronounced /num/ and via was pronounced [ˈwia]. From the 1st century AD on, depending on Vulgar Latin dialect, consonantal /w/ developed into /β/ (kept in Spanish), then later to /v/.\n",
      "\n",
      "During the Late Middle Ages, two minuscule glyphs developed which were both used for sounds including /u/ and modern /v/. The pointed form \"v\" was written at the beginning of a word, while a rounded form \"u\" was used in the middle or end, regardless of sound. So whereas \"valour\" and \"excuse\" appeared as in modern printing, \"have\" and \"upon\" were printed as \"haue\" and \"vpon\". The first distinction between the letters \"u\" and \"v\" is recorded in a Gothic script from 1386, where \"v\" preceded \"u\". By the mid-16th century, the \"v\" form was used to represent the consonant and \"u\" the vowel sound, giving us the modern letter \"u\". Capital and majuscule \"U\" was not accepted as a distinct letter until many years later.[3]\n",
      "\n",
      "Letter[edit]\n",
      "In the International Phonetic Alphabet, /v/ represents the voiced labiodental fricative. See Help:IPA.\n",
      "\n",
      "In English, special rules of orthography normally apply to the letter V:\n",
      "\n",
      "Traditionally, V is not doubled to indicate a short vowel, the way, for example, P is doubled to indicate the difference between \"super\" and \"supper\". However, that is changing with newly coined words, such as savvy, \"divvy up\" and \"skivvies\".\n",
      "Barring the word of, a word that ends in a v sound is spelled ve regardless of the sound of the vowel before it. This rule does not apply to transliterations of Slavic and Hebrew words, such as Kiev, or to words that started out as abbreviations, such as sov for sovereign.\n",
      "The short u sound is spelled o, not u, before the letter v. This originated with a mediaeval scribal practice designed to increase legibility by avoiding too many vertical strokes (minims) in a row.\n",
      "Like J, K, Q, X, and Z, V is not used very frequently in English. It is the sixth least frequently used letter in the English language, with a frequency of about 1.03% in words. V is the only letter that cannot be used to form an English two-letter word in the Australian version of the game of Scrabble.[4] C also cannot be used in the American version.[5]\n",
      "The letter appears frequently in the Romance languages, where it is the first letter of the second person plural pronoun and (in Italian) the stem of the imperfect form of most verbs.\n",
      "\n",
      "Name in other languages[edit]\n",
      "Classical Latin: V [uː] is the name for both its use as a consonant and as a vowel. Chiefly in its role of a consonant and where the context calls for it, V (or rather its sound) was sometimes called by Roman grammarians [wau̯] (Latin: VAV), this being a name for the digamma (Ϝ); indeed, Roman grammarians commonly equated the sound of the consonantal V to that of the Aeolic digamma (Latin: digamma Aeolicum, digammon Aeolicum, digamma Aeolica) and would sometimes directly call the consonantal V a digamma. However, in general, the letter, wherever it occurred, was called [uː].\n",
      "Catalan: ve, pronounced [ˈve]; in dialects that lack contrast between /v/ and /b/, the letter is called ve baixa [ˈbe ˈbajʃə] \"low B/V\".\n",
      "Czech: vé ['vɛː]\n",
      "French: vé ['ve]\n",
      "German: Vau [ˈfaʊ]\n",
      "Italian: vi [ˈvi] or vu [ˈvu]\n",
      "Polish: fał ['faw]\n",
      "Portuguese: vê [ˈve]\n",
      "Spanish: uve [ˈuβe] is recommended, but ve [ˈbe] is traditional. If V is pronounced in the second way, it would have the same pronunciation as the letter B in Spanish (i.e. [ˈbe] after pause or nasal sound, otherwise [ˈβe]);[6] thus further terms are needed to distinguish ve from be. In some countries it is called ve corta, ve baja, ve pequeña, ve chica or ve labiodental.\n",
      "In Japanese, V is called a variety of names originating in English, most commonly ブイ [bɯi] or [bui], but less nativized variants, violating to an extent the phonotactics of Japanese, of ヴィー [viː], ヴイ [vɯi] or [vui], and ヴィ [vi] are also used. The phoneme /v/ in Japanese is used properly only in loanwords, where the preference for either /v/ or /b/ depends on many factors; in general, words that are perceived to be in common use tend toward /b/.\n",
      "\n"
     ]
    }
   ],
   "source": [
    "from bs4 import BeautifulSoup\n",
    "import requests\n",
    " \n",
    "# get URL\n",
    "page = requests.get(\"https://en.wikipedia.org/wiki/V\")\n",
    " \n",
    "# scrape webpage\n",
    "soup = BeautifulSoup(page.content, 'html.parser')\n",
    " \n",
    "list(soup.children)\n",
    " \n",
    "# find all occurrence of p in HTML\n",
    "# includes HTML tags\n",
    "#print(soup.find_all('p'))\n",
    " \n",
    " \n",
    "# return only text\n",
    "# does not include HTML tags\n",
    "print(soup.find_all('h2')[1].get_text())\n",
    "print(soup.find_all('p')[1].get_text(),end='')\n",
    "print(soup.find_all('p')[2].get_text())\n",
    "print(soup.find_all('p')[3].get_text())\n",
    "print(soup.find_all('p')[4].get_text())\n",
    "\n",
    "print(soup.find_all('h2')[2].get_text())\n",
    "print(soup.find_all('p')[5].get_text())\n",
    "print(soup.find_all('p')[6].get_text())\n",
    "print(soup.find_all('li')[26].get_text())\n",
    "print(soup.find_all('li')[27].get_text())\n",
    "print(soup.find_all('li')[28].get_text())\n",
    "print(soup.find_all('p')[7].get_text(),end='')\n",
    "print(soup.find_all('p')[8].get_text())\n",
    "print(soup.find_all('h2')[3].get_text())\n",
    "print(soup.find_all('li')[29].get_text())\n",
    "print(soup.find_all('li')[30].get_text())\n",
    "print(soup.find_all('li')[31].get_text())\n",
    "print(soup.find_all('li')[32].get_text())\n",
    "print(soup.find_all('li')[33].get_text())\n",
    "print(soup.find_all('li')[34].get_text())\n",
    "print(soup.find_all('li')[35].get_text())\n",
    "print(soup.find_all('li')[36].get_text())\n",
    "print(soup.find_all('li')[37].get_text())\n",
    "print(soup.find_all('p')[9].get_text())"
   ]
  },
  {
   "cell_type": "code",
   "execution_count": null,
   "metadata": {},
   "outputs": [],
   "source": []
  }
 ],
 "metadata": {
  "kernelspec": {
   "display_name": "Python 3",
   "language": "python",
   "name": "python3"
  },
  "language_info": {
   "codemirror_mode": {
    "name": "ipython",
    "version": 3
   },
   "file_extension": ".py",
   "mimetype": "text/x-python",
   "name": "python",
   "nbconvert_exporter": "python",
   "pygments_lexer": "ipython3",
   "version": "3.7.6"
  }
 },
 "nbformat": 4,
 "nbformat_minor": 4
}
